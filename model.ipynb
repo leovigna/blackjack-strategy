{
 "cells": [
  {
   "cell_type": "code",
   "execution_count": 63,
   "metadata": {},
   "outputs": [],
   "source": [
    "import random"
   ]
  },
  {
   "cell_type": "code",
   "execution_count": null,
   "metadata": {},
   "outputs": [],
   "source": [
    "# Black Jack Simulator\n",
    "\n",
    "'''\n",
    "- Deck\n",
    "- - Shuffle\n",
    "- - Card Value, Win/Bust\n",
    "- As (Soft/Hard)\n",
    "- - Hit, Stand, Double, Split, (Insurance)\n",
    "\n",
    "- Game state\n",
    "- Decision tree\n",
    "'''\n",
    "cards =\n",
    "\n",
    "deck = [ \n",
    "    11, \n",
    "    2,\n",
    "    ]"
   ]
  },
  {
   "cell_type": "code",
   "execution_count": null,
   "metadata": {},
   "outputs": [],
   "source": [
    "## Make non-mutable"
   ]
  },
  {
   "cell_type": "code",
   "execution_count": 126,
   "metadata": {},
   "outputs": [],
   "source": [
    "def generate_suite():\n",
    "    yield from range(2,12)\n",
    "    yield 10\n",
    "    yield 10\n",
    "    yield 10\n",
    "    \n",
    "def generate_deck(n):\n",
    "    suite = [i for i in generate_suite() for s in range(4 * n)]\n",
    "    random.shuffle(suite)\n",
    "    \n",
    "    return suite\n",
    "\n",
    "def draw_card(deck):\n",
    "    #return deck.copy().pop(0)\n",
    "    return deck.pop(0)"
   ]
  },
  {
   "cell_type": "code",
   "execution_count": 68,
   "metadata": {},
   "outputs": [],
   "source": [
    "def soft_total(cards):\n",
    "    cards_soft = [x if x != 11 else 1 for x in cards]    \n",
    "    return sum(cards_soft)"
   ]
  },
  {
   "cell_type": "code",
   "execution_count": 69,
   "metadata": {},
   "outputs": [],
   "source": [
    "def hard_total(cards):\n",
    "    return sum(cards)"
   ]
  },
  {
   "cell_type": "code",
   "execution_count": 70,
   "metadata": {},
   "outputs": [],
   "source": [
    "# Edge case multiple Aces\n",
    "def best_total(cards):\n",
    "    soft = soft_total(cards)\n",
    "    hard = hard_total(cards)\n",
    "    \n",
    "    if (hard <= 21): return hard\n",
    "    \n",
    "    return soft"
   ]
  },
  {
   "cell_type": "code",
   "execution_count": 99,
   "metadata": {},
   "outputs": [],
   "source": [
    "def is_bust(cards):\n",
    "    return best_total(cards) > 21"
   ]
  },
  {
   "cell_type": "code",
   "execution_count": 100,
   "metadata": {},
   "outputs": [],
   "source": [
    "def is_blackjack(cards):\n",
    "    return (best_total(cards) == 21) && len(cards) == 2"
   ]
  },
  {
   "cell_type": "code",
   "execution_count": 72,
   "metadata": {},
   "outputs": [],
   "source": [
    "'''\n",
    "Game\n",
    "- Dealer gets 2 cards, card at index 0 is visible\n",
    "- Each player 2 cards\n",
    "\n",
    "game_state = {\n",
    "   dealer\n",
    "   player0: []\n",
    "   plauer1\n",
    "}\n",
    "'''\n",
    "\n",
    "def initial_state(player_count):\n",
    "    game_state = {\n",
    "    'dealer': []\n",
    "    }\n",
    "    for i in range(player_count):\n",
    "        game_state['player' + str(i)] = []\n",
    "        \n",
    "    return game_state"
   ]
  },
  {
   "cell_type": "code",
   "execution_count": 73,
   "metadata": {},
   "outputs": [],
   "source": [
    "def deal_cards(game_state, deck):\n",
    "    # Dealer\n",
    "    game_state['dealer'] = [draw_card(deck), draw_card(deck)]\n",
    "    for k in game_state.keys():\n",
    "        if k != 'dealer':\n",
    "            game_state[k] = [draw_card(deck), draw_card(deck)]\n",
    "            \n",
    "    return game_state, deck"
   ]
  },
  {
   "cell_type": "code",
   "execution_count": 112,
   "metadata": {},
   "outputs": [],
   "source": [
    "def dealer_move(game_state, deck):\n",
    "    '''\n",
    "    Dealer stands on 17\n",
    "    '''\n",
    "    dealer_state = game_state.copy()\n",
    "    dealer_deck = deck.copy()\n",
    "    \n",
    "    if best_total(dealer_state['dealer']) >= 17:\n",
    "        return dealer_state, dealer_deck\n",
    "    \n",
    "    while best_total(dealer_state['dealer']) < 17:\n",
    "        dealer_state['dealer'].append(draw_card(dealer_deck))\n",
    "        \n",
    "    return dealer_state, dealer_deck"
   ]
  },
  {
   "cell_type": "code",
   "execution_count": 101,
   "metadata": {},
   "outputs": [],
   "source": [
    "def player_move(game_state, deck, player, move):\n",
    "    '''\n",
    "    move = stand | hit | double | split\n",
    "    '''\n",
    "    if move == 'stand':\n",
    "        stand_state = game_state.copy()\n",
    "        stand_deck = deck.copy()\n",
    "        return stand_state, stand_deck\n",
    "    elif move == 'hit':\n",
    "        hit_state = game_state.copy()\n",
    "        hit_deck = deck.copy()\n",
    "        hit_state[player].append(draw_card(hit_deck))\n",
    "        return hit_state, hit_deck\n",
    "    elif move == 'double':\n",
    "        # Do Nothing\n",
    "        return game_state.copy(), deck.copy()\n",
    "    elif move == 'split':\n",
    "        split_state = game_state.copy()\n",
    "        split_deck = deck.copy()\n",
    "        split_state[player].append(draw_card(split_deck))\n",
    "        split_state[player].append(draw_card(split_deck))\n",
    "        return split_state, split_deck"
   ]
  },
  {
   "cell_type": "code",
   "execution_count": 108,
   "metadata": {},
   "outputs": [],
   "source": [
    "# Player moves\n",
    "# Dealer moves\n",
    "# End Game, Payout\n",
    "# Split win?\n",
    "def end_game(game_state, player):\n",
    "    dealer_count = best_total(game_state['dealer'])\n",
    "    player_count = best_total(game_state[player])\n",
    "    \n",
    "    player_bj = (player_count == 21) & (len(game_state[player]) == 2)\n",
    "    dealer_bj = (dealer_count == 21) & (len(game_state['dealer']) == 2)\n",
    "    \n",
    "    # blackjack, blackjack-split\n",
    "    if player_bj & dealer_bj:\n",
    "        return 'split_blackjack'\n",
    "    if player_bj:\n",
    "        return 'win_blackjack'\n",
    "    if dealer_bj:\n",
    "        return 'lose_blackjack'\n",
    "    \n",
    "    # busts\n",
    "    if player_count > 21:\n",
    "        return 'lose_bust'\n",
    "    if dealer_count > 21:\n",
    "        return 'win_bust'\n",
    "    \n",
    "    # points\n",
    "    if dealer_count < player_count:\n",
    "        return 'win_point'\n",
    "    elif dealer_count > player_count:\n",
    "        return 'lose_point'\n",
    "    else:\n",
    "        return 'split_point'"
   ]
  },
  {
   "cell_type": "code",
   "execution_count": 123,
   "metadata": {},
   "outputs": [
    {
     "name": "stdout",
     "output_type": "stream",
     "text": [
      "[4, 10, 5, 10, 8, 10, 10, 10, 3, 2]\n",
      "{'dealer': [4, 10], 'player0': [5, 10]}\n",
      "{'dealer': [4, 10, 8], 'player0': [5, 10]} win_bust [10, 10, 10, 3, 2, 10, 2, 9, 10, 10]\n",
      "{'dealer': [4, 10, 8], 'player0': [5, 10, 8]}\n",
      "{'dealer': [4, 10, 8], 'player0': [5, 10, 8]} lose_bust [10, 10, 10, 3, 2, 10, 2, 9, 10, 10]\n"
     ]
    }
   ],
   "source": [
    "# Generate possible variants\n",
    "def game_gen():\n",
    "    # Initial state\n",
    "    deck = generate_deck(6)\n",
    "    print(deck[0:10])\n",
    "    state = initial_state(1)\n",
    "    deal_cards(state, deck) \n",
    "    end = None\n",
    "    \n",
    "    while end != 'lose_bust':\n",
    "        print (state)\n",
    "        # Player move\n",
    "        state_player, deck_player = player_move(state, deck, 'player0', 'stand')\n",
    "        # Dealer move\n",
    "        state_dealer, deck_dealer = dealer_move(state_player, deck_player)\n",
    "        # End game\n",
    "        end = end_game(state_dealer, 'player0')\n",
    "        yield state_dealer, deck_dealer, end\n",
    "    \n",
    "        # Player move\n",
    "        state, deck = player_move(state, deck, 'player0', 'hit')\n",
    "        \n",
    "for state, deck, end in game_gen():\n",
    "    print(state, end, deck[0:10])"
   ]
  },
  {
   "cell_type": "code",
   "execution_count": null,
   "metadata": {},
   "outputs": [],
   "source": [
    "deck = generate_deck(2)\n",
    "game = initial_state(1)\n",
    "print(game)\n",
    "\n",
    "deal_cards(game, deck)\n",
    "\n",
    "print(game)\n",
    "print(soft_total(game['dealer']))\n",
    "print(hard_total(game['dealer']))\n",
    "dealer_move(game, deck)\n",
    "print(game)"
   ]
  },
  {
   "cell_type": "code",
   "execution_count": 98,
   "metadata": {},
   "outputs": [
    {
     "name": "stdout",
     "output_type": "stream",
     "text": [
      "True\n",
      "21\n"
     ]
    },
    {
     "data": {
      "text/plain": [
       "'blackjack'"
      ]
     },
     "execution_count": 98,
     "metadata": {},
     "output_type": "execute_result"
    }
   ],
   "source": [
    "state = {\n",
    "    'dealer': [11, 9],\n",
    "    'player1': [11, 10]\n",
    "}\n",
    "player = 'player1'\n",
    "print((best_total(state[player]) == 21) & (len(state[player]) == 2))\n",
    "print(best_total(state[player]))\n",
    "\n",
    "end_game(state, player)"
   ]
  },
  {
   "cell_type": "code",
   "execution_count": 6,
   "metadata": {},
   "outputs": [
    {
     "name": "stdout",
     "output_type": "stream",
     "text": [
      "11\n",
      "21\n"
     ]
    }
   ],
   "source": [
    "cards = [11, 10]\n",
    "\n",
    "soft = soft_total(cards)\n",
    "hard = hard_total(cards)\n",
    "\n",
    "print (soft)\n",
    "print (hard)"
   ]
  },
  {
   "cell_type": "code",
   "execution_count": null,
   "metadata": {},
   "outputs": [],
   "source": []
  }
 ],
 "metadata": {
  "kernelspec": {
   "display_name": "Python 3",
   "language": "python",
   "name": "python3"
  },
  "language_info": {
   "codemirror_mode": {
    "name": "ipython",
    "version": 3
   },
   "file_extension": ".py",
   "mimetype": "text/x-python",
   "name": "python",
   "nbconvert_exporter": "python",
   "pygments_lexer": "ipython3",
   "version": "3.7.6"
  }
 },
 "nbformat": 4,
 "nbformat_minor": 2
}
